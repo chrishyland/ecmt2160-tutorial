{
 "cells": [
  {
   "cell_type": "markdown",
   "metadata": {},
   "source": [
    "## ECMT2160 - Econometric Analysis\n",
    "### Semester 2 2018\n",
    "#### Author: Chris Hyland\n",
    "\n",
    "Welcome to your first Stata course powered by Jupyter Notebooks! This will be a quick crash course on being able to use Stata in a more formal manner. Note that I am currently writing this on the Mac operating system, so Windows users may have different experiences with Stata."
   ]
  },
  {
   "cell_type": "markdown",
   "metadata": {},
   "source": [
    "### What is Stata and why do I need to learn it?\n",
    "Stata is a Data Analysis and Statistical Software widely used in the social sciences. The ease of the language and strong technical support from Statacorp are some of its biggest advantages over other programming languages. It is a good language for people who aren't familiar with programming.\n",
    "\n",
    "As aspiring Economists/Econometricians, alot of time in your career you will be given data to analyse. Investing the time in learning tools such as Stata will go a **long** way in your career and make life much easier for you."
   ]
  },
  {
   "attachments": {},
   "cell_type": "markdown",
   "metadata": {},
   "source": [
    "### Awesome! How do I get started?\n",
    "When you click on the Stata icon, you should be greeted by an GUI looking like this:\n",
    "\n",
    "![1](Images/STATA-Intro/1.png)"
   ]
  },
  {
   "cell_type": "markdown",
   "metadata": {},
   "source": [
    "If you see the box down below titled _Command_, this allows you to write Stata commands (duh). So let's just try entering our first command:"
   ]
  },
  {
   "cell_type": "markdown",
   "metadata": {},
   "source": [
    "```Stata\n",
    "display \"Hi everyone!\"\n",
    "```\n",
    "> Hi everyone!\n",
    "\n",
    "Note the \"\" in the above sentence. That tells Stata you are typing in text rather than issuing more commands."
   ]
  },
  {
   "cell_type": "markdown",
   "metadata": {},
   "source": [
    "You can see that typing the command _display_ will generally display whatever you type into it. If you wanted to do some math using Stata's display console, you again need to use the display command.\n",
    "\n",
    "```Stata\n",
    "display 2+2\n",
    "```\n",
    "> 4\n",
    "\n",
    "Finally, you can combine both math and words (otherwise known in programming as _strings_).\n",
    "\n",
    "```Stata\n",
    "display 2+2 \" is my favourite number\"\n",
    "```\n",
    "> 4 is my favourite number"
   ]
  },
  {
   "attachments": {},
   "cell_type": "markdown",
   "metadata": {},
   "source": [
    "### I think I'm getting the hang of this! But hang on, what should I do if I want to change something I typed earlier? \n",
    "Congrats and good question! This is where the something called **Do-files** are super handy. Whilst it may seen simple enough to just type a few commands into the command console, it is not ideal for writing programs that requires a longer amount of commands. If you look at the top, you should see a button called _Do-File Editor_:\n",
    "![2](Images/STATA-Intro/2.png)\n",
    "\n",
    "or you can click on File->New->Do-File"
   ]
  },
  {
   "attachments": {},
   "cell_type": "markdown",
   "metadata": {},
   "source": [
    "\n",
    "You should see an empty window open up. Now try typing\n",
    "\n",
    "```Stata\n",
    "display \"Hey there\"\n",
    "```\n",
    "Now look for a button that looks like this to click on:\n",
    "![3](Images/STATA-Intro/3.png)\n",
    "\n",
    "Your code should execute now! Generally, when you work with Do-files, you tend to leave write all your commands here and more importantly _comment_ or explain what is going on in your code. To write a comment, use the // symbols as that lets Stata now it is just a comment and not actually a command. Here is an example of what your Do-file may contain:\n",
    "\n",
    "```Stata\n",
    "//ECMT2160 Tutorial\n",
    "//Author: Chris Hyland\n",
    "display \"Hi everyone\"\n",
    "display \"It is very exciting to be teaching you ECMT2160!\"\n",
    "display \"Yay\"\n",
    "```\n",
    "Now when you execute this, only the last 3 lines get executed. \n",
    "\n",
    "Professional Economists tend to collaborate with each other by sending each other their Do-files with comments which allows their peers to run and check their code. One final bit of advice is that generally you don't tend to include the output of your code in your Do-file but for your assignments in this course, it is fine to simply copy and paste your output and then **commenting it out**. "
   ]
  },
  {
   "attachments": {},
   "cell_type": "markdown",
   "metadata": {},
   "source": [
    "### That's awesome! How do I read in a dataset that I would like to analyse?\n",
    "\n",
    "This part may be a tricky initially but bear with me! If you want to be able to load in a dataset via commands rather than clicking on import, first you need to find the path of the file. The path of the file is just where is the file on your computer. Here's how to find the path of a file for [Windows](https://www.pcworld.com/article/251406/windows_tips_copy_a_file_path_show_or_hide_extensions.html) and for [Mac](http://osxdaily.com/2013/06/19/copy-file-folder-path-mac-os-x/). \n",
    "\n",
    "Here is an example of me specifying the path to my Desktop and reading in a file.\n",
    "\n",
    "\n",
    "```Stata\n",
    "// Specifies the path to the desktop and save the path as datadir\n",
    "global datadir \"/Users/ChristopherHyland/Desktop\"\n",
    "\n",
    "// Read in the data from my desktop\n",
    "use \"$datadir/smoke.dta\", clear\n",
    "```\n",
    "\n",
    "\n",
    "That should have read in the Smoking (smoke) dataset. Note that this process is easier if it is a .dta file rather than a csv file.\n",
    "\n",
    "### Alright, I managed to read the data in. What now?\n",
    "\n",
    "Alot of the time when you first load in your dataset, it is a good idea to do some general exploring of your dataset. A good start is to compute basic summary statistics of the dataset. To do so, just go\n",
    "\n",
    "```Stata\n",
    "summarize\n",
    "```\n",
    "\n",
    "![4](Images/STATA-Intro/4.png)"
   ]
  },
  {
   "attachments": {},
   "cell_type": "markdown",
   "metadata": {},
   "source": [
    "### Awesome! Would a Frequency table be a good idea too?\n",
    "Good point! To create a frequency table, we can use the tabulate command. Let's compute a frequency table for the education variable.\n",
    "\n",
    "```Stata\n",
    "tabulate educ\n",
    "```\n",
    "\n",
    "![5](Images/STATA-Intro/5.png)"
   ]
  },
  {
   "attachments": {},
   "cell_type": "markdown",
   "metadata": {},
   "source": [
    "### All these tables are boring, could I explore the data in a more visual manner?\n",
    "\n",
    "A scatterplot is a great tool for analysing your data. To create a scatterplot, enter:\n",
    "\n",
    "```Stata\n",
    "scatter y x\n",
    "```\n",
    "where y is what you want on the y-axis whilst x is what variable you would like on the x-axis. Here is an example:\n",
    "\n",
    "```Stata\n",
    "scatter cigpric educ\n",
    "```\n",
    "![6](Images/STATA-Intro/6.png)"
   ]
  },
  {
   "cell_type": "markdown",
   "metadata": {},
   "source": [
    "### Great! What now? \n",
    "\n",
    "With all that out of the way, we can begin with some **modelling**! Let's begin with **regressions**.\n",
    "\n",
    "To do a simple linear regression (after checking whether the assumptions hold), we can use the reg command, which stands for regress. We always let the _dependent variable_ be the variable after the reg and any independent variables we want to be after it.\n",
    "\n",
    "```Stata\n",
    "reg cigs age\n",
    "```\n",
    "\n",
    "![7](Images/STATA-Intro/7.png)\n",
    "\n",
    "Let's interpret this!\n",
    "\n",
    "1) \\_cons is the intercept. The coef column tells us the value of the coefficients on those variables. Here, age's coefficient is -0.033 with a standard error of 0.02838. \n",
    "\n",
    "2) The t-column tells us the test statistic for our hypothesis of $\\beta_1 = 0$ or that the coefficient is equal to 0. The P>|t| column tells us the p-value from such a test and last 2 columns are the confidence intervals.\n",
    "\n",
    "3) We can see other useful information such as the R-squared and adjusted R-squared in the top right hand side. The F(1, 805) is the F-test on all the coefficients being equal to 0 or not. Note that this is the same as the t-test mentioned in the last point since we only have 1 independant variable in our model. \n",
    "\n",
    "4) The top left tells us more information such as the [total sum of squares](https://en.wikipedia.org/wiki/Total_sum_of_squares), [explained sum of squares](https://en.wikipedia.org/wiki/Explained_sum_of_squares) and the [residual sum of squares](https://en.wikipedia.org/wiki/Residual_sum_of_squares) which you should be familiar with from earlier ECMT courses."
   ]
  },
  {
   "cell_type": "markdown",
   "metadata": {},
   "source": [
    "\n",
    "To do a multiple linear regression, we can go:\n",
    "\n",
    "```Stata\n",
    "reg cigs age educ income\n",
    "```\n",
    "![8](Images/STATA-Intro/8.png)"
   ]
  },
  {
   "cell_type": "markdown",
   "metadata": {},
   "source": [
    "### I see! I notice there seems to be a recurring pattern in Stata's command? \n",
    "\n",
    "Yes you're right! Once the format of \n",
    "\n",
    "```Stata\n",
    "model y x\n",
    "``` \n",
    "\n",
    "becomes familiar to you, it's easy to pick up alot of other models. An example is the logistic regression which is just:\n",
    "\n",
    "```Stata\n",
    "logit restaurn educ age\n",
    "```\n",
    "\n",
    "![9](Images/STATA-Intro/9.png)\n",
    "\n",
    "You may notice the few lines at the beginning talking about iterations and log likelihood. Don't worry about that for now but in a nutshell, Stata is using [numerical analysis](https://en.wikipedia.org/wiki/Numerical_analysis) to find the values in its [maximum likelihood estimation](https://en.wikipedia.org/wiki/Maximum_likelihood_estimation). We'll learn more about this later on in the course!"
   ]
  },
  {
   "cell_type": "markdown",
   "metadata": {},
   "source": [
    "### How intuitive!\n",
    "\n",
    "Exactly! Hence why Stata is still the language of choice for many researchers. That's all the time we had for today but if you want to look at more things, always feel free to read the [user guide](https://www.stata.com/manuals13/u.pdf) issued by Stata. It's a fanastic bedtime read!"
   ]
  }
 ],
 "metadata": {
  "kernelspec": {
   "display_name": "Python 3",
   "language": "python",
   "name": "python3"
  },
  "language_info": {
   "codemirror_mode": {
    "name": "ipython",
    "version": 3
   },
   "file_extension": ".py",
   "mimetype": "text/x-python",
   "name": "python",
   "nbconvert_exporter": "python",
   "pygments_lexer": "ipython3",
   "version": "3.7.0"
  }
 },
 "nbformat": 4,
 "nbformat_minor": 2
}
